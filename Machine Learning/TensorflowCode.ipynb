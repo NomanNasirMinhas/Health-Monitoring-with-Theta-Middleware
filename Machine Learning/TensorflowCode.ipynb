{
 "cells": [
  {
   "cell_type": "code",
   "execution_count": 151,
   "metadata": {},
   "outputs": [],
   "source": [
    "import matplotlib.pyplot as plt\n",
    "import numpy as np\n",
    "import pandas as pd\n",
    "import seaborn as sns\n",
    "\n",
    "\n",
    "# Make numpy printouts easier to read.\n",
    "np.set_printoptions(precision=3, suppress=True)"
   ]
  },
  {
   "cell_type": "code",
   "execution_count": 152,
   "metadata": {},
   "outputs": [
    {
     "name": "stdout",
     "output_type": "stream",
     "text": [
      "2.3.1\n"
     ]
    }
   ],
   "source": [
    "import tensorflow as tf\n",
    "\n",
    "from tensorflow import keras\n",
    "from tensorflow.keras import layers\n",
    "from tensorflow.keras.layers.experimental import preprocessing\n",
    "\n",
    "print(tf.__version__)"
   ]
  },
  {
   "cell_type": "code",
   "execution_count": 153,
   "metadata": {},
   "outputs": [
    {
     "name": "stdout",
     "output_type": "stream",
     "text": [
      "Data Shape: (10000, 4)\n",
      "           0   1          2   3\n",
      "0  98.188214  80  99.749348  90\n",
      "1  98.809898  74  99.346196  98\n",
      "2  98.249848  78  99.631931  91\n",
      "3  98.570041  77  99.523255  96\n",
      "4  98.637673  72  98.974869  94\n"
     ]
    }
   ],
   "source": [
    "df = pd.read_csv('HealthData.csv') \n",
    "print(\"Data Shape:\", df.shape) \n",
    "print(df.head()) "
   ]
  },
  {
   "cell_type": "code",
   "execution_count": 154,
   "metadata": {},
   "outputs": [
    {
     "data": {
      "text/html": [
       "<div>\n",
       "<style scoped>\n",
       "    .dataframe tbody tr th:only-of-type {\n",
       "        vertical-align: middle;\n",
       "    }\n",
       "\n",
       "    .dataframe tbody tr th {\n",
       "        vertical-align: top;\n",
       "    }\n",
       "\n",
       "    .dataframe thead th {\n",
       "        text-align: right;\n",
       "    }\n",
       "</style>\n",
       "<table border=\"1\" class=\"dataframe\">\n",
       "  <thead>\n",
       "    <tr style=\"text-align: right;\">\n",
       "      <th></th>\n",
       "      <th>0</th>\n",
       "      <th>1</th>\n",
       "      <th>2</th>\n",
       "      <th>3</th>\n",
       "    </tr>\n",
       "  </thead>\n",
       "  <tbody>\n",
       "    <tr>\n",
       "      <th>count</th>\n",
       "      <td>10000.000000</td>\n",
       "      <td>10000.00000</td>\n",
       "      <td>10000.000000</td>\n",
       "      <td>10000.000000</td>\n",
       "    </tr>\n",
       "    <tr>\n",
       "      <th>mean</th>\n",
       "      <td>97.740490</td>\n",
       "      <td>91.42520</td>\n",
       "      <td>95.243587</td>\n",
       "      <td>82.991400</td>\n",
       "    </tr>\n",
       "    <tr>\n",
       "      <th>std</th>\n",
       "      <td>2.182264</td>\n",
       "      <td>17.50997</td>\n",
       "      <td>3.984716</td>\n",
       "      <td>7.832807</td>\n",
       "    </tr>\n",
       "    <tr>\n",
       "      <th>min</th>\n",
       "      <td>94.000464</td>\n",
       "      <td>60.00000</td>\n",
       "      <td>85.003689</td>\n",
       "      <td>70.000000</td>\n",
       "    </tr>\n",
       "    <tr>\n",
       "      <th>25%</th>\n",
       "      <td>95.998633</td>\n",
       "      <td>76.00000</td>\n",
       "      <td>92.046497</td>\n",
       "      <td>77.000000</td>\n",
       "    </tr>\n",
       "    <tr>\n",
       "      <th>50%</th>\n",
       "      <td>98.077522</td>\n",
       "      <td>94.00000</td>\n",
       "      <td>96.738618</td>\n",
       "      <td>82.000000</td>\n",
       "    </tr>\n",
       "    <tr>\n",
       "      <th>75%</th>\n",
       "      <td>99.121507</td>\n",
       "      <td>106.00000</td>\n",
       "      <td>98.726657</td>\n",
       "      <td>89.000000</td>\n",
       "    </tr>\n",
       "    <tr>\n",
       "      <th>max</th>\n",
       "      <td>102.497957</td>\n",
       "      <td>120.00000</td>\n",
       "      <td>99.999741</td>\n",
       "      <td>100.000000</td>\n",
       "    </tr>\n",
       "  </tbody>\n",
       "</table>\n",
       "</div>"
      ],
      "text/plain": [
       "                  0            1             2             3\n",
       "count  10000.000000  10000.00000  10000.000000  10000.000000\n",
       "mean      97.740490     91.42520     95.243587     82.991400\n",
       "std        2.182264     17.50997      3.984716      7.832807\n",
       "min       94.000464     60.00000     85.003689     70.000000\n",
       "25%       95.998633     76.00000     92.046497     77.000000\n",
       "50%       98.077522     94.00000     96.738618     82.000000\n",
       "75%       99.121507    106.00000     98.726657     89.000000\n",
       "max      102.497957    120.00000     99.999741    100.000000"
      ]
     },
     "execution_count": 154,
     "metadata": {},
     "output_type": "execute_result"
    }
   ],
   "source": [
    "df.describe()"
   ]
  },
  {
   "cell_type": "code",
   "execution_count": 155,
   "metadata": {},
   "outputs": [
    {
     "name": "stdout",
     "output_type": "stream",
     "text": [
      "Shape of Feature Matrix: (10000, 3)\n",
      "Shape Label Vector: (10000,)\n"
     ]
    }
   ],
   "source": [
    "# Feature Matrix \n",
    "x_orig = df[['0','1','2']]\n",
    "\n",
    "# Data labels \n",
    "y_orig = df['3'] \n",
    "\n",
    "print(\"Shape of Feature Matrix:\", x_orig.shape) \n",
    "print(\"Shape Label Vector:\", y_orig.shape) \n"
   ]
  },
  {
   "cell_type": "code",
   "execution_count": 156,
   "metadata": {},
   "outputs": [
    {
     "name": "stdout",
     "output_type": "stream",
     "text": [
      "               0    1          2    3\n",
      "7054  100.997209  102  91.870079   77\n",
      "442    98.399373   82  99.781130   97\n",
      "3954   97.772860   99  95.440646   91\n",
      "2288   98.431476   99  96.207697   80\n",
      "3196   98.126512   78  97.333287   92\n",
      "6178   99.301808  110  92.249571   75\n",
      "8351   94.493637  108  92.955934   77\n",
      "5658   97.696357   68  99.076697   84\n",
      "2065   98.458660   94  99.166908   87\n",
      "413    98.271281   85  99.662325  100\n",
      "8594   94.402643  118  92.703073   75\n",
      "1805   96.771574   61  99.095883   80\n",
      "3631   97.306781   84  97.498918   98\n",
      "837    98.495097   89  99.811801   99\n",
      "9322   94.781692  120  88.708872   72\n",
      "4186   95.929821   89  98.045244   83\n",
      "6568  100.239376  109  93.991647   75\n",
      "5401   97.123400   68  97.511421   80\n",
      "8467   94.943483  101  92.851337   78\n",
      "1995   98.904768   60  97.432165   80\n",
      "5153   99.373612   63  98.174681   81\n",
      "4921   96.151041   71  98.989414   88\n",
      "7755  102.370168  100  91.344725   77\n",
      "5492   98.272437   64  98.814505   83\n",
      "2593   98.846158   99  97.067255   85\n",
      "1745   99.286879   67  98.061331   87\n",
      "7398  102.234167  107  91.021519   79\n",
      "8046   94.408370  106  91.385157   73\n",
      "3830   97.703269   72  97.953295   93\n",
      "4871   95.538793   88  98.882218   89\n",
      "...          ...  ...        ...  ...\n",
      "1974   97.654601   70  98.221905   81\n",
      "3083   98.676838   90  99.046965   91\n",
      "7410  101.564274  110  91.184511   79\n",
      "1300   97.185429   60  97.179772   83\n",
      "4492   95.423508   71  98.152936   85\n",
      "4768   96.621731   67  98.332631   81\n",
      "2910   97.984208  100  95.439964   88\n",
      "5803   97.915915   99  97.776929   80\n",
      "3739   98.554994   97  96.694563   91\n",
      "5843   99.091601   99  99.017937   83\n",
      "5763   99.765167   91  99.946544   79\n",
      "9227   94.977847  118  85.952933   78\n",
      "2776   96.513404   90  99.751598   81\n",
      "5632   99.616064   75  99.999741   81\n",
      "5381   97.233786   95  99.340100   85\n",
      "1724   97.011614   64  99.125646   90\n",
      "3108   97.981801   74  98.444667   97\n",
      "8040   94.487066  104  93.922186   78\n",
      "2759   97.894621   95  99.433492   90\n",
      "3202   97.261209   71  95.212237   95\n",
      "7053  101.058106  106  91.519819   72\n",
      "4343   95.317889   68  98.193173   83\n",
      "799    98.232877   74  99.777041   93\n",
      "5461   98.966415   67  97.508460   77\n",
      "2135   99.457927   92  96.625908   81\n",
      "3519   98.164290   98  98.497936   90\n",
      "6862   99.197786  114  90.942289   81\n",
      "1438   98.398240   62  99.545264   80\n",
      "5862   98.412720   94  99.356067   83\n",
      "9209   94.774235  107  86.081710   70\n",
      "\n",
      "[8000 rows x 4 columns]\n",
      "              0    1          2    3\n",
      "3     98.570041   77  99.523255   96\n",
      "10    98.996491   71  99.742195   90\n",
      "18    98.825897   80  99.036964   94\n",
      "25    98.373404   74  98.903565   97\n",
      "35    98.763865   86  98.760072   97\n",
      "36    98.635417   82  99.531050   92\n",
      "37    98.002386   90  99.228300   92\n",
      "41    98.757800   74  99.727725  100\n",
      "43    98.613665   85  99.658596   97\n",
      "44    98.845026   80  99.328774   92\n",
      "48    98.336583   70  99.091559   99\n",
      "63    98.318492   83  98.998067   99\n",
      "66    98.916713   71  99.285195   99\n",
      "71    98.566199   81  99.961461  100\n",
      "78    98.059386   84  98.576322   94\n",
      "81    98.935541   78  99.363650   96\n",
      "85    98.356145   89  98.900819   96\n",
      "90    98.491058   72  98.830837   97\n",
      "92    98.542060   74  98.999642   98\n",
      "107   98.113986   70  99.488383   99\n",
      "113   98.796280   88  99.195615   96\n",
      "121   98.496404   74  99.471377  100\n",
      "122   98.452862   78  98.578714   93\n",
      "127   98.473299   82  99.015457   91\n",
      "135   98.043111   79  99.755165   99\n",
      "137   98.377865   87  98.940772   90\n",
      "144   98.338231   80  99.219070   90\n",
      "147   98.831718   89  99.096931   91\n",
      "154   98.272755   77  99.845509   92\n",
      "158   98.001363   84  98.762933   90\n",
      "...         ...  ...        ...  ...\n",
      "9862  94.124038  109  89.337894   74\n",
      "9868  94.483016  114  85.114644   80\n",
      "9870  94.162643  115  85.505659   70\n",
      "9871  94.937119  102  88.494602   80\n",
      "9872  94.651383  104  85.034115   78\n",
      "9876  94.460915  119  85.645236   73\n",
      "9878  94.549634  106  86.044444   75\n",
      "9881  94.938523  117  85.936125   71\n",
      "9891  94.639266  119  88.732804   70\n",
      "9904  94.687046  104  87.645439   76\n",
      "9906  94.426324  113  89.690476   70\n",
      "9907  94.203129  105  87.870294   70\n",
      "9911  94.921572  119  88.853979   76\n",
      "9915  94.042758  107  85.589707   80\n",
      "9917  94.346377  105  87.335992   75\n",
      "9925  94.389811  120  89.497274   72\n",
      "9934  94.357121  109  88.788306   74\n",
      "9939  94.973008  117  85.405027   74\n",
      "9940  94.802348  110  85.343881   78\n",
      "9943  94.763245  111  89.630699   71\n",
      "9951  94.484332  105  88.941277   70\n",
      "9957  94.183929  100  89.116029   80\n",
      "9966  94.269977  102  86.167177   72\n",
      "9968  94.682127  108  85.139302   79\n",
      "9976  94.751696  100  86.315956   71\n",
      "9980  94.022911  104  87.089509   78\n",
      "9981  94.862889  108  86.003426   80\n",
      "9983  94.309485  101  87.139463   70\n",
      "9993  94.101304  115  89.626252   73\n",
      "9994  94.574027  114  87.690344   71\n",
      "\n",
      "[2000 rows x 4 columns]\n"
     ]
    }
   ],
   "source": [
    "train_dataset = df.sample(frac=0.8, random_state=5)\n",
    "test_dataset = df.drop(train_dataset.index)\n",
    "print(train_dataset)\n",
    "print(test_dataset)"
   ]
  },
  {
   "cell_type": "code",
   "execution_count": 157,
   "metadata": {},
   "outputs": [
    {
     "name": "stdout",
     "output_type": "stream",
     "text": [
      "7054     77\n",
      "442      97\n",
      "3954     91\n",
      "2288     80\n",
      "3196     92\n",
      "6178     75\n",
      "8351     77\n",
      "5658     84\n",
      "2065     87\n",
      "413     100\n",
      "8594     75\n",
      "1805     80\n",
      "3631     98\n",
      "837      99\n",
      "9322     72\n",
      "4186     83\n",
      "6568     75\n",
      "5401     80\n",
      "8467     78\n",
      "1995     80\n",
      "5153     81\n",
      "4921     88\n",
      "7755     77\n",
      "5492     83\n",
      "2593     85\n",
      "1745     87\n",
      "7398     79\n",
      "8046     73\n",
      "3830     93\n",
      "4871     89\n",
      "       ... \n",
      "1974     81\n",
      "3083     91\n",
      "7410     79\n",
      "1300     83\n",
      "4492     85\n",
      "4768     81\n",
      "2910     88\n",
      "5803     80\n",
      "3739     91\n",
      "5843     83\n",
      "5763     79\n",
      "9227     78\n",
      "2776     81\n",
      "5632     81\n",
      "5381     85\n",
      "1724     90\n",
      "3108     97\n",
      "8040     78\n",
      "2759     90\n",
      "3202     95\n",
      "7053     72\n",
      "4343     83\n",
      "799      93\n",
      "5461     77\n",
      "2135     81\n",
      "3519     90\n",
      "6862     81\n",
      "1438     80\n",
      "5862     83\n",
      "9209     70\n",
      "Name: 3, Length: 8000, dtype: int64\n",
      "3        96\n",
      "10       90\n",
      "18       94\n",
      "25       97\n",
      "35       97\n",
      "36       92\n",
      "37       92\n",
      "41      100\n",
      "43       97\n",
      "44       92\n",
      "48       99\n",
      "63       99\n",
      "66       99\n",
      "71      100\n",
      "78       94\n",
      "81       96\n",
      "85       96\n",
      "90       97\n",
      "92       98\n",
      "107      99\n",
      "113      96\n",
      "121     100\n",
      "122      93\n",
      "127      91\n",
      "135      99\n",
      "137      90\n",
      "144      90\n",
      "147      91\n",
      "154      92\n",
      "158      90\n",
      "       ... \n",
      "9862     74\n",
      "9868     80\n",
      "9870     70\n",
      "9871     80\n",
      "9872     78\n",
      "9876     73\n",
      "9878     75\n",
      "9881     71\n",
      "9891     70\n",
      "9904     76\n",
      "9906     70\n",
      "9907     70\n",
      "9911     76\n",
      "9915     80\n",
      "9917     75\n",
      "9925     72\n",
      "9934     74\n",
      "9939     74\n",
      "9940     78\n",
      "9943     71\n",
      "9951     70\n",
      "9957     80\n",
      "9966     72\n",
      "9968     79\n",
      "9976     71\n",
      "9980     78\n",
      "9981     80\n",
      "9983     70\n",
      "9993     73\n",
      "9994     71\n",
      "Name: 3, Length: 2000, dtype: int64\n"
     ]
    }
   ],
   "source": [
    "train_features = train_dataset.copy()\n",
    "test_features = test_dataset.copy()\n",
    "\n",
    "train_labels = train_features.pop('3')\n",
    "test_labels = test_features.pop('3')\n",
    "print(train_labels)\n",
    "print(test_labels)"
   ]
  },
  {
   "cell_type": "code",
   "execution_count": 158,
   "metadata": {},
   "outputs": [
    {
     "data": {
      "text/html": [
       "<div>\n",
       "<style scoped>\n",
       "    .dataframe tbody tr th:only-of-type {\n",
       "        vertical-align: middle;\n",
       "    }\n",
       "\n",
       "    .dataframe tbody tr th {\n",
       "        vertical-align: top;\n",
       "    }\n",
       "\n",
       "    .dataframe thead th {\n",
       "        text-align: right;\n",
       "    }\n",
       "</style>\n",
       "<table border=\"1\" class=\"dataframe\">\n",
       "  <thead>\n",
       "    <tr style=\"text-align: right;\">\n",
       "      <th></th>\n",
       "      <th>mean</th>\n",
       "      <th>std</th>\n",
       "    </tr>\n",
       "  </thead>\n",
       "  <tbody>\n",
       "    <tr>\n",
       "      <th>0</th>\n",
       "      <td>97.729176</td>\n",
       "      <td>2.172933</td>\n",
       "    </tr>\n",
       "    <tr>\n",
       "      <th>1</th>\n",
       "      <td>91.340625</td>\n",
       "      <td>17.498661</td>\n",
       "    </tr>\n",
       "    <tr>\n",
       "      <th>2</th>\n",
       "      <td>95.267603</td>\n",
       "      <td>3.983633</td>\n",
       "    </tr>\n",
       "    <tr>\n",
       "      <th>3</th>\n",
       "      <td>83.034000</td>\n",
       "      <td>7.847359</td>\n",
       "    </tr>\n",
       "  </tbody>\n",
       "</table>\n",
       "</div>"
      ],
      "text/plain": [
       "        mean        std\n",
       "0  97.729176   2.172933\n",
       "1  91.340625  17.498661\n",
       "2  95.267603   3.983633\n",
       "3  83.034000   7.847359"
      ]
     },
     "execution_count": 158,
     "metadata": {},
     "output_type": "execute_result"
    }
   ],
   "source": [
    "train_dataset.describe().transpose()[['mean', 'std']]"
   ]
  },
  {
   "cell_type": "code",
   "execution_count": 159,
   "metadata": {},
   "outputs": [
    {
     "name": "stdout",
     "output_type": "stream",
     "text": [
      "[97.729 91.341 95.268]\n"
     ]
    }
   ],
   "source": [
    "normalizer = preprocessing.Normalization()\n",
    "normalizer.adapt(np.array(train_features))\n",
    "print(normalizer.mean.numpy())"
   ]
  },
  {
   "cell_type": "code",
   "execution_count": 160,
   "metadata": {},
   "outputs": [
    {
     "name": "stdout",
     "output_type": "stream",
     "text": [
      "First example: [[101.   102.    91.87]]\n",
      "\n",
      "Normalized: [[ 1.5   0.61 -0.85]]\n"
     ]
    }
   ],
   "source": [
    "first = np.array(train_features[:1])\n",
    "\n",
    "with np.printoptions(precision=2, suppress=True):\n",
    "  print('First example:', first)\n",
    "  print()\n",
    "  print('Normalized:', normalizer(first).numpy())"
   ]
  },
  {
   "cell_type": "code",
   "execution_count": 161,
   "metadata": {},
   "outputs": [
    {
     "data": {
      "text/plain": [
       "array([[-1.198],\n",
       "       [-0.325],\n",
       "       [-0.46 ],\n",
       "       [-0.782],\n",
       "       [ 0.321],\n",
       "       [-1.132],\n",
       "       [ 0.465],\n",
       "       [ 0.774],\n",
       "       [-0.921],\n",
       "       [-0.431]], dtype=float32)"
      ]
     },
     "execution_count": 161,
     "metadata": {},
     "output_type": "execute_result"
    }
   ],
   "source": [
    "linear_model = tf.keras.Sequential([\n",
    "    normalizer,\n",
    "    layers.Dense(units=1)\n",
    "])\n",
    "linear_model.predict(train_features[:10])"
   ]
  },
  {
   "cell_type": "code",
   "execution_count": 162,
   "metadata": {},
   "outputs": [
    {
     "data": {
      "text/plain": [
       "<tf.Variable 'dense_25/kernel:0' shape=(3, 1) dtype=float32, numpy=\n",
       "array([[-0.716],\n",
       "       [-0.963],\n",
       "       [-0.546]], dtype=float32)>"
      ]
     },
     "execution_count": 162,
     "metadata": {},
     "output_type": "execute_result"
    }
   ],
   "source": [
    "linear_model.layers[1].kernel"
   ]
  },
  {
   "cell_type": "code",
   "execution_count": 163,
   "metadata": {},
   "outputs": [],
   "source": [
    "linear_model.compile(\n",
    "    optimizer=tf.optimizers.Adam(learning_rate=0.1),\n",
    "    loss='mean_absolute_error', metrics=['Accuracy'])"
   ]
  },
  {
   "cell_type": "code",
   "execution_count": 164,
   "metadata": {},
   "outputs": [
    {
     "name": "stdout",
     "output_type": "stream",
     "text": [
      "Epoch 1/100\n",
      "200/200 [==============================] - 0s 2ms/step - loss: 73.0712 - accuracy: 0.0000e+00 - val_loss: 63.2002 - val_accuracy: 0.0000e+00\n",
      "Epoch 2/100\n",
      "200/200 [==============================] - 0s 1ms/step - loss: 53.0585 - accuracy: 0.0000e+00 - val_loss: 43.2292 - val_accuracy: 0.0000e+00\n",
      "Epoch 3/100\n",
      "200/200 [==============================] - 0s 2ms/step - loss: 33.0449 - accuracy: 0.0000e+00 - val_loss: 23.3017 - val_accuracy: 0.0000e+00\n",
      "Epoch 4/100\n",
      "200/200 [==============================] - 0s 1ms/step - loss: 13.6452 - accuracy: 0.0000e+00 - val_loss: 5.9754 - val_accuracy: 0.0000e+00\n",
      "Epoch 5/100\n",
      "200/200 [==============================] - 0s 1ms/step - loss: 4.8788 - accuracy: 0.0000e+00 - val_loss: 4.8278 - val_accuracy: 0.0000e+00\n",
      "Epoch 6/100\n",
      "200/200 [==============================] - 0s 1ms/step - loss: 4.6676 - accuracy: 0.0000e+00 - val_loss: 4.8155 - val_accuracy: 0.0000e+00\n",
      "Epoch 7/100\n",
      "200/200 [==============================] - 0s 1ms/step - loss: 4.6624 - accuracy: 0.0000e+00 - val_loss: 4.8474 - val_accuracy: 0.0000e+00\n",
      "Epoch 8/100\n",
      "200/200 [==============================] - 0s 1ms/step - loss: 4.6658 - accuracy: 0.0000e+00 - val_loss: 4.8145 - val_accuracy: 0.0000e+00\n",
      "Epoch 9/100\n",
      "200/200 [==============================] - 0s 1ms/step - loss: 4.6610 - accuracy: 0.0000e+00 - val_loss: 4.8181 - val_accuracy: 0.0000e+00\n",
      "Epoch 10/100\n",
      "200/200 [==============================] - 0s 1ms/step - loss: 4.6647 - accuracy: 0.0000e+00 - val_loss: 4.8340 - val_accuracy: 0.0000e+00\n",
      "Epoch 11/100\n",
      "200/200 [==============================] - 0s 1ms/step - loss: 4.6624 - accuracy: 0.0000e+00 - val_loss: 4.8372 - val_accuracy: 0.0000e+00\n",
      "Epoch 12/100\n",
      "200/200 [==============================] - 0s 1ms/step - loss: 4.6591 - accuracy: 0.0000e+00 - val_loss: 4.8261 - val_accuracy: 0.0000e+00\n",
      "Epoch 13/100\n",
      "200/200 [==============================] - 0s 1ms/step - loss: 4.6669 - accuracy: 0.0000e+00 - val_loss: 4.8272 - val_accuracy: 0.0000e+00\n",
      "Epoch 14/100\n",
      "200/200 [==============================] - 0s 1ms/step - loss: 4.6653 - accuracy: 0.0000e+00 - val_loss: 4.8359 - val_accuracy: 0.0000e+00\n",
      "Epoch 15/100\n",
      "200/200 [==============================] - 0s 1ms/step - loss: 4.6689 - accuracy: 0.0000e+00 - val_loss: 4.8180 - val_accuracy: 0.0000e+00\n",
      "Epoch 16/100\n",
      "200/200 [==============================] - 0s 1ms/step - loss: 4.6631 - accuracy: 0.0000e+00 - val_loss: 4.8272 - val_accuracy: 0.0000e+00\n",
      "Epoch 17/100\n",
      "200/200 [==============================] - 0s 1ms/step - loss: 4.6637 - accuracy: 0.0000e+00 - val_loss: 4.8109 - val_accuracy: 0.0000e+00\n",
      "Epoch 18/100\n",
      "200/200 [==============================] - 0s 1ms/step - loss: 4.6641 - accuracy: 0.0000e+00 - val_loss: 4.8090 - val_accuracy: 0.0000e+00\n",
      "Epoch 19/100\n",
      "200/200 [==============================] - 0s 1ms/step - loss: 4.6685 - accuracy: 0.0000e+00 - val_loss: 4.8108 - val_accuracy: 0.0000e+00\n",
      "Epoch 20/100\n",
      "200/200 [==============================] - 0s 1ms/step - loss: 4.6713 - accuracy: 0.0000e+00 - val_loss: 4.8326 - val_accuracy: 0.0000e+00\n",
      "Epoch 21/100\n",
      "200/200 [==============================] - 0s 1ms/step - loss: 4.6690 - accuracy: 0.0000e+00 - val_loss: 4.8348 - val_accuracy: 0.0000e+00\n",
      "Epoch 22/100\n",
      "200/200 [==============================] - 0s 1ms/step - loss: 4.6585 - accuracy: 0.0000e+00 - val_loss: 4.8299 - val_accuracy: 0.0000e+00\n",
      "Epoch 23/100\n",
      "200/200 [==============================] - 0s 1ms/step - loss: 4.6732 - accuracy: 0.0000e+00 - val_loss: 4.8315 - val_accuracy: 0.0000e+00\n",
      "Epoch 24/100\n",
      "200/200 [==============================] - 0s 1ms/step - loss: 4.6672 - accuracy: 0.0000e+00 - val_loss: 4.8485 - val_accuracy: 0.0000e+00\n",
      "Epoch 25/100\n",
      "200/200 [==============================] - 0s 1ms/step - loss: 4.6679 - accuracy: 0.0000e+00 - val_loss: 4.8301 - val_accuracy: 0.0000e+00\n",
      "Epoch 26/100\n",
      "200/200 [==============================] - 0s 1ms/step - loss: 4.6641 - accuracy: 0.0000e+00 - val_loss: 4.8248 - val_accuracy: 0.0000e+00\n",
      "Epoch 27/100\n",
      "200/200 [==============================] - 0s 1ms/step - loss: 4.6644 - accuracy: 0.0000e+00 - val_loss: 4.8154 - val_accuracy: 0.0000e+00\n",
      "Epoch 28/100\n",
      "200/200 [==============================] - 0s 1ms/step - loss: 4.6661 - accuracy: 0.0000e+00 - val_loss: 4.8244 - val_accuracy: 0.0000e+00\n",
      "Epoch 29/100\n",
      "200/200 [==============================] - 0s 1ms/step - loss: 4.6588 - accuracy: 0.0000e+00 - val_loss: 4.8443 - val_accuracy: 0.0000e+00\n",
      "Epoch 30/100\n",
      "200/200 [==============================] - 0s 1ms/step - loss: 4.6632 - accuracy: 0.0000e+00 - val_loss: 4.8161 - val_accuracy: 0.0000e+00\n",
      "Epoch 31/100\n",
      "200/200 [==============================] - 0s 1ms/step - loss: 4.6754 - accuracy: 0.0000e+00 - val_loss: 4.8130 - val_accuracy: 0.0000e+00\n",
      "Epoch 32/100\n",
      "200/200 [==============================] - 0s 1ms/step - loss: 4.6686 - accuracy: 0.0000e+00 - val_loss: 4.8504 - val_accuracy: 0.0000e+00\n",
      "Epoch 33/100\n",
      "200/200 [==============================] - 0s 1ms/step - loss: 4.6667 - accuracy: 0.0000e+00 - val_loss: 4.8746 - val_accuracy: 0.0000e+00\n",
      "Epoch 34/100\n",
      "200/200 [==============================] - 0s 1ms/step - loss: 4.6688 - accuracy: 0.0000e+00 - val_loss: 4.8326 - val_accuracy: 0.0000e+00\n",
      "Epoch 35/100\n",
      "200/200 [==============================] - 0s 1ms/step - loss: 4.6600 - accuracy: 0.0000e+00 - val_loss: 4.8087 - val_accuracy: 0.0000e+00\n",
      "Epoch 36/100\n",
      "200/200 [==============================] - 0s 1ms/step - loss: 4.6647 - accuracy: 0.0000e+00 - val_loss: 4.8527 - val_accuracy: 0.0000e+00\n",
      "Epoch 37/100\n",
      "200/200 [==============================] - 0s 1ms/step - loss: 4.6630 - accuracy: 0.0000e+00 - val_loss: 4.8281 - val_accuracy: 0.0000e+00\n",
      "Epoch 38/100\n",
      "200/200 [==============================] - 0s 1ms/step - loss: 4.6660 - accuracy: 0.0000e+00 - val_loss: 4.8371 - val_accuracy: 0.0000e+00\n",
      "Epoch 39/100\n",
      "200/200 [==============================] - 0s 1ms/step - loss: 4.6677 - accuracy: 0.0000e+00 - val_loss: 4.8181 - val_accuracy: 0.0000e+00\n",
      "Epoch 40/100\n",
      "200/200 [==============================] - 0s 1ms/step - loss: 4.6695 - accuracy: 0.0000e+00 - val_loss: 4.8249 - val_accuracy: 0.0000e+00\n",
      "Epoch 41/100\n",
      "200/200 [==============================] - 0s 1ms/step - loss: 4.6723 - accuracy: 0.0000e+00 - val_loss: 4.8331 - val_accuracy: 0.0000e+00\n",
      "Epoch 42/100\n",
      "200/200 [==============================] - 0s 1ms/step - loss: 4.6649 - accuracy: 0.0000e+00 - val_loss: 4.8111 - val_accuracy: 0.0000e+00\n",
      "Epoch 43/100\n",
      "200/200 [==============================] - 0s 2ms/step - loss: 4.6640 - accuracy: 0.0000e+00 - val_loss: 4.8117 - val_accuracy: 0.0000e+00\n",
      "Epoch 44/100\n",
      "200/200 [==============================] - 0s 2ms/step - loss: 4.6698 - accuracy: 0.0000e+00 - val_loss: 4.8205 - val_accuracy: 0.0000e+00\n",
      "Epoch 45/100\n",
      "200/200 [==============================] - 1s 3ms/step - loss: 4.6660 - accuracy: 0.0000e+00 - val_loss: 4.8277 - val_accuracy: 0.0000e+00\n",
      "Epoch 46/100\n",
      "200/200 [==============================] - 1s 3ms/step - loss: 4.6629 - accuracy: 0.0000e+00 - val_loss: 4.8364 - val_accuracy: 0.0000e+00\n",
      "Epoch 47/100\n",
      "200/200 [==============================] - 0s 2ms/step - loss: 4.6687 - accuracy: 0.0000e+00 - val_loss: 4.8123 - val_accuracy: 0.0000e+00\n",
      "Epoch 48/100\n",
      "200/200 [==============================] - 0s 2ms/step - loss: 4.6643 - accuracy: 0.0000e+00 - val_loss: 4.8228 - val_accuracy: 0.0000e+00\n",
      "Epoch 49/100\n",
      "200/200 [==============================] - 0s 2ms/step - loss: 4.6666 - accuracy: 0.0000e+00 - val_loss: 4.8190 - val_accuracy: 0.0000e+00\n",
      "Epoch 50/100\n",
      "200/200 [==============================] - 0s 2ms/step - loss: 4.6692 - accuracy: 0.0000e+00 - val_loss: 4.8216 - val_accuracy: 0.0000e+00\n",
      "Epoch 51/100\n",
      "200/200 [==============================] - 0s 2ms/step - loss: 4.6669 - accuracy: 0.0000e+00 - val_loss: 4.8175 - val_accuracy: 0.0000e+00\n",
      "Epoch 52/100\n",
      "200/200 [==============================] - 0s 2ms/step - loss: 4.6652 - accuracy: 0.0000e+00 - val_loss: 4.8201 - val_accuracy: 0.0000e+00\n",
      "Epoch 53/100\n",
      "200/200 [==============================] - 0s 2ms/step - loss: 4.6645 - accuracy: 0.0000e+00 - val_loss: 4.8505 - val_accuracy: 0.0000e+00\n",
      "Epoch 54/100\n",
      "200/200 [==============================] - 0s 2ms/step - loss: 4.6625 - accuracy: 0.0000e+00 - val_loss: 4.8276 - val_accuracy: 0.0000e+00\n"
     ]
    },
    {
     "name": "stdout",
     "output_type": "stream",
     "text": [
      "Epoch 55/100\n",
      "200/200 [==============================] - 0s 2ms/step - loss: 4.6684 - accuracy: 0.0000e+00 - val_loss: 4.8723 - val_accuracy: 0.0000e+00\n",
      "Epoch 56/100\n",
      "200/200 [==============================] - 0s 1ms/step - loss: 4.6663 - accuracy: 0.0000e+00 - val_loss: 4.8159 - val_accuracy: 0.0000e+00\n",
      "Epoch 57/100\n",
      "200/200 [==============================] - 0s 2ms/step - loss: 4.6702 - accuracy: 0.0000e+00 - val_loss: 4.8303 - val_accuracy: 0.0000e+00\n",
      "Epoch 58/100\n",
      "200/200 [==============================] - 0s 2ms/step - loss: 4.6643 - accuracy: 0.0000e+00 - val_loss: 4.8087 - val_accuracy: 0.0000e+00\n",
      "Epoch 59/100\n",
      "200/200 [==============================] - 0s 1ms/step - loss: 4.6773 - accuracy: 0.0000e+00 - val_loss: 4.8537 - val_accuracy: 0.0000e+00\n",
      "Epoch 60/100\n",
      "200/200 [==============================] - 0s 2ms/step - loss: 4.6699 - accuracy: 0.0000e+00 - val_loss: 4.8217 - val_accuracy: 0.0000e+00\n",
      "Epoch 61/100\n",
      "200/200 [==============================] - 0s 1ms/step - loss: 4.6686 - accuracy: 0.0000e+00 - val_loss: 4.8154 - val_accuracy: 0.0000e+00\n",
      "Epoch 62/100\n",
      "200/200 [==============================] - 0s 2ms/step - loss: 4.6678 - accuracy: 0.0000e+00 - val_loss: 4.8107 - val_accuracy: 0.0000e+00\n",
      "Epoch 63/100\n",
      "200/200 [==============================] - 0s 2ms/step - loss: 4.6663 - accuracy: 0.0000e+00 - val_loss: 4.8214 - val_accuracy: 0.0000e+00\n",
      "Epoch 64/100\n",
      "200/200 [==============================] - 0s 2ms/step - loss: 4.6755 - accuracy: 0.0000e+00 - val_loss: 4.8208 - val_accuracy: 0.0000e+00\n",
      "Epoch 65/100\n",
      "200/200 [==============================] - 0s 2ms/step - loss: 4.6613 - accuracy: 0.0000e+00 - val_loss: 4.8370 - val_accuracy: 0.0000e+00\n",
      "Epoch 66/100\n",
      "200/200 [==============================] - 0s 2ms/step - loss: 4.6661 - accuracy: 0.0000e+00 - val_loss: 4.8357 - val_accuracy: 0.0000e+00\n",
      "Epoch 67/100\n",
      "200/200 [==============================] - 0s 1ms/step - loss: 4.6789 - accuracy: 0.0000e+00 - val_loss: 4.8311 - val_accuracy: 0.0000e+00\n",
      "Epoch 68/100\n",
      "200/200 [==============================] - 0s 2ms/step - loss: 4.6679 - accuracy: 0.0000e+00 - val_loss: 4.8216 - val_accuracy: 0.0000e+00\n",
      "Epoch 69/100\n",
      "200/200 [==============================] - 0s 1ms/step - loss: 4.6633 - accuracy: 0.0000e+00 - val_loss: 4.8132 - val_accuracy: 0.0000e+00\n",
      "Epoch 70/100\n",
      "200/200 [==============================] - 0s 2ms/step - loss: 4.6665 - accuracy: 0.0000e+00 - val_loss: 4.8172 - val_accuracy: 0.0000e+00\n",
      "Epoch 71/100\n",
      "200/200 [==============================] - 0s 2ms/step - loss: 4.6690 - accuracy: 0.0000e+00 - val_loss: 4.8339 - val_accuracy: 0.0000e+00\n",
      "Epoch 72/100\n",
      "200/200 [==============================] - 0s 2ms/step - loss: 4.6598 - accuracy: 0.0000e+00 - val_loss: 4.8245 - val_accuracy: 0.0000e+00\n",
      "Epoch 73/100\n",
      "200/200 [==============================] - 0s 2ms/step - loss: 4.6634 - accuracy: 0.0000e+00 - val_loss: 4.8162 - val_accuracy: 0.0000e+00\n",
      "Epoch 74/100\n",
      "200/200 [==============================] - 0s 2ms/step - loss: 4.6593 - accuracy: 0.0000e+00 - val_loss: 4.8296 - val_accuracy: 0.0000e+00\n",
      "Epoch 75/100\n",
      "200/200 [==============================] - 0s 2ms/step - loss: 4.6696 - accuracy: 0.0000e+00 - val_loss: 4.8246 - val_accuracy: 0.0000e+00\n",
      "Epoch 76/100\n",
      "200/200 [==============================] - 0s 2ms/step - loss: 4.6617 - accuracy: 0.0000e+00 - val_loss: 4.8318 - val_accuracy: 0.0000e+00\n",
      "Epoch 77/100\n",
      "200/200 [==============================] - 0s 2ms/step - loss: 4.6734 - accuracy: 0.0000e+00 - val_loss: 4.8185 - val_accuracy: 0.0000e+00\n",
      "Epoch 78/100\n",
      "200/200 [==============================] - 0s 2ms/step - loss: 4.6721 - accuracy: 0.0000e+00 - val_loss: 4.8270 - val_accuracy: 0.0000e+00\n",
      "Epoch 79/100\n",
      "200/200 [==============================] - 0s 2ms/step - loss: 4.6727 - accuracy: 0.0000e+00 - val_loss: 4.8173 - val_accuracy: 0.0000e+00\n",
      "Epoch 80/100\n",
      "200/200 [==============================] - 0s 2ms/step - loss: 4.6699 - accuracy: 0.0000e+00 - val_loss: 4.8124 - val_accuracy: 0.0000e+00\n",
      "Epoch 81/100\n",
      "200/200 [==============================] - 0s 2ms/step - loss: 4.6705 - accuracy: 0.0000e+00 - val_loss: 4.8158 - val_accuracy: 0.0000e+00\n",
      "Epoch 82/100\n",
      "200/200 [==============================] - 0s 2ms/step - loss: 4.6699 - accuracy: 0.0000e+00 - val_loss: 4.8257 - val_accuracy: 0.0000e+00\n",
      "Epoch 83/100\n",
      "200/200 [==============================] - 0s 2ms/step - loss: 4.6659 - accuracy: 0.0000e+00 - val_loss: 4.8306 - val_accuracy: 0.0000e+00\n",
      "Epoch 84/100\n",
      "200/200 [==============================] - 0s 2ms/step - loss: 4.6699 - accuracy: 0.0000e+00 - val_loss: 4.8327 - val_accuracy: 0.0000e+00\n",
      "Epoch 85/100\n",
      "200/200 [==============================] - 0s 2ms/step - loss: 4.6667 - accuracy: 0.0000e+00 - val_loss: 4.8150 - val_accuracy: 0.0000e+00\n",
      "Epoch 86/100\n",
      "200/200 [==============================] - 0s 2ms/step - loss: 4.6662 - accuracy: 0.0000e+00 - val_loss: 4.8295 - val_accuracy: 0.0000e+00\n",
      "Epoch 87/100\n",
      "200/200 [==============================] - 0s 2ms/step - loss: 4.6720 - accuracy: 0.0000e+00 - val_loss: 4.8096 - val_accuracy: 0.0000e+00\n",
      "Epoch 88/100\n",
      "200/200 [==============================] - 0s 2ms/step - loss: 4.6730 - accuracy: 0.0000e+00 - val_loss: 4.8216 - val_accuracy: 0.0000e+00\n",
      "Epoch 89/100\n",
      "200/200 [==============================] - 0s 2ms/step - loss: 4.6689 - accuracy: 0.0000e+00 - val_loss: 4.8113 - val_accuracy: 0.0000e+00\n",
      "Epoch 90/100\n",
      "200/200 [==============================] - 0s 2ms/step - loss: 4.6660 - accuracy: 0.0000e+00 - val_loss: 4.8178 - val_accuracy: 0.0000e+00\n",
      "Epoch 91/100\n",
      "200/200 [==============================] - 0s 2ms/step - loss: 4.6673 - accuracy: 0.0000e+00 - val_loss: 4.8423 - val_accuracy: 0.0000e+00\n",
      "Epoch 92/100\n",
      "200/200 [==============================] - 0s 2ms/step - loss: 4.6690 - accuracy: 0.0000e+00 - val_loss: 4.8110 - val_accuracy: 0.0000e+00\n",
      "Epoch 93/100\n",
      "200/200 [==============================] - 0s 2ms/step - loss: 4.6693 - accuracy: 0.0000e+00 - val_loss: 4.8141 - val_accuracy: 0.0000e+00\n",
      "Epoch 94/100\n",
      "200/200 [==============================] - 0s 2ms/step - loss: 4.6689 - accuracy: 0.0000e+00 - val_loss: 4.8133 - val_accuracy: 0.0000e+00\n",
      "Epoch 95/100\n",
      "200/200 [==============================] - 0s 2ms/step - loss: 4.6686 - accuracy: 0.0000e+00 - val_loss: 4.8522 - val_accuracy: 0.0000e+00\n",
      "Epoch 96/100\n",
      "200/200 [==============================] - 0s 2ms/step - loss: 4.6658 - accuracy: 0.0000e+00 - val_loss: 4.8388 - val_accuracy: 0.0000e+00\n",
      "Epoch 97/100\n",
      "200/200 [==============================] - 0s 2ms/step - loss: 4.6718 - accuracy: 0.0000e+00 - val_loss: 4.8275 - val_accuracy: 0.0000e+00\n",
      "Epoch 98/100\n",
      "200/200 [==============================] - 0s 2ms/step - loss: 4.6647 - accuracy: 0.0000e+00 - val_loss: 4.8345 - val_accuracy: 0.0000e+00\n",
      "Epoch 99/100\n",
      "200/200 [==============================] - 0s 2ms/step - loss: 4.6706 - accuracy: 0.0000e+00 - val_loss: 4.8306 - val_accuracy: 0.0000e+00\n",
      "Epoch 100/100\n",
      "200/200 [==============================] - 0s 2ms/step - loss: 4.6695 - accuracy: 0.0000e+00 - val_loss: 4.8153 - val_accuracy: 0.0000e+00\n",
      "Wall time: 32.4 s\n"
     ]
    }
   ],
   "source": [
    "%%time\n",
    "history = linear_model.fit(\n",
    "    train_features, train_labels, \n",
    "    epochs=100,\n",
    "    # suppress logging\n",
    "    verbose=1,\n",
    "    # Calculate validation results on 20% of the training data\n",
    "    validation_split = 0.2)"
   ]
  },
  {
   "cell_type": "code",
   "execution_count": 165,
   "metadata": {},
   "outputs": [],
   "source": [
    "def plot_loss(history):\n",
    "  plt.plot(history.history['loss'], label='loss')\n",
    "  plt.plot(history.history['val_loss'], label='val_loss')\n",
    "  plt.ylim([0, 10])\n",
    "  plt.xlabel('Epoch')\n",
    "  plt.ylabel('Error [MPG]')\n",
    "  plt.legend()\n",
    "  plt.grid(True)"
   ]
  },
  {
   "cell_type": "code",
   "execution_count": 166,
   "metadata": {},
   "outputs": [
    {
     "data": {
      "image/png": "[encoded data removed]",
      "text/plain": [
       "<Figure size 432x288 with 1 Axes>"
      ]
     },
     "metadata": {
      "needs_background": "light"
     },
     "output_type": "display_data"
    }
   ],
   "source": [
    "plot_loss(history)"
   ]
  },
  {
   "cell_type": "code",
   "execution_count": 167,
   "metadata": {},
   "outputs": [
    {
     "name": "stdout",
     "output_type": "stream",
     "text": [
      "{'linear_model': [4.608853340148926, 0.0]}\n"
     ]
    }
   ],
   "source": [
    "test_results = {}\n",
    "test_results['linear_model'] = linear_model.evaluate(\n",
    "    test_features, test_labels, verbose=0)\n",
    "print(test_results)"
   ]
  },
  {
   "cell_type": "code",
   "execution_count": 168,
   "metadata": {},
   "outputs": [],
   "source": [
    "def build_and_compile_model(norm):\n",
    "  model = keras.Sequential([\n",
    "      norm,\n",
    "      layers.Dense(64, activation='relu'),\n",
    "      layers.Dense(64, activation='relu'),\n",
    "      layers.Dense(1)\n",
    "  ])\n",
    "\n",
    "  model.compile(loss='mean_absolute_error',\n",
    "                optimizer=tf.keras.optimizers.Adam(0.001), metrics=['accuracy'])\n",
    "  return model"
   ]
  },
  {
   "cell_type": "code",
   "execution_count": 169,
   "metadata": {},
   "outputs": [
    {
     "name": "stdout",
     "output_type": "stream",
     "text": [
      "Model: \"sequential_14\"\n",
      "_________________________________________________________________\n",
      "Layer (type)                 Output Shape              Param #   \n",
      "=================================================================\n",
      "normalization_5 (Normalizati (None, 3)                 7         \n",
      "_________________________________________________________________\n",
      "dense_26 (Dense)             (None, 64)                256       \n",
      "_________________________________________________________________\n",
      "dense_27 (Dense)             (None, 64)                4160      \n",
      "_________________________________________________________________\n",
      "dense_28 (Dense)             (None, 1)                 65        \n",
      "=================================================================\n",
      "Total params: 4,488\n",
      "Trainable params: 4,481\n",
      "Non-trainable params: 7\n",
      "_________________________________________________________________\n"
     ]
    }
   ],
   "source": [
    "dnn_model = build_and_compile_model(normalizer)\n",
    "dnn_model.summary()"
   ]
  },
  {
   "cell_type": "code",
   "execution_count": 170,
   "metadata": {},
   "outputs": [
    {
     "name": "stdout",
     "output_type": "stream",
     "text": [
      "Wall time: 24.8 s\n"
     ]
    }
   ],
   "source": [
    "%%time\n",
    "history = dnn_model.fit(\n",
    "    train_features, train_labels,\n",
    "    validation_split=0.2,\n",
    "    verbose=0, epochs=100)"
   ]
  },
  {
   "cell_type": "code",
   "execution_count": 171,
   "metadata": {},
   "outputs": [
    {
     "data": {
      "image/png": "[encoded data removed]",
      "text/plain": [
       "<Figure size 432x288 with 1 Axes>"
      ]
     },
     "metadata": {
      "needs_background": "light"
     },
     "output_type": "display_data"
    }
   ],
   "source": [
    "plot_loss(history)"
   ]
  },
  {
   "cell_type": "code",
   "execution_count": 172,
   "metadata": {},
   "outputs": [],
   "source": [
    "test_results['dnn_model'] = dnn_model.evaluate(test_features, test_labels, verbose=0)"
   ]
  },
  {
   "cell_type": "code",
   "execution_count": 173,
   "metadata": {},
   "outputs": [
    {
     "ename": "ValueError",
     "evalue": "Shape of passed values is (2, 2), indices imply (2, 1)",
     "output_type": "error",
     "traceback": [
      "\u001b[1;31m---------------------------------------------------------------------------\u001b[0m",
      "\u001b[1;31mValueError\u001b[0m                                Traceback (most recent call last)",
      "\u001b[1;32mC:\\ProgramData\\Anaconda3\\lib\\site-packages\\pandas\\core\\internals.py\u001b[0m in \u001b[0;36mcreate_block_manager_from_arrays\u001b[1;34m(arrays, names, axes)\u001b[0m\n\u001b[0;32m   4872\u001b[0m         \u001b[0mblocks\u001b[0m \u001b[1;33m=\u001b[0m \u001b[0mform_blocks\u001b[0m\u001b[1;33m(\u001b[0m\u001b[0marrays\u001b[0m\u001b[1;33m,\u001b[0m \u001b[0mnames\u001b[0m\u001b[1;33m,\u001b[0m \u001b[0maxes\u001b[0m\u001b[1;33m)\u001b[0m\u001b[1;33m\u001b[0m\u001b[1;33m\u001b[0m\u001b[0m\n\u001b[1;32m-> 4873\u001b[1;33m         \u001b[0mmgr\u001b[0m \u001b[1;33m=\u001b[0m \u001b[0mBlockManager\u001b[0m\u001b[1;33m(\u001b[0m\u001b[0mblocks\u001b[0m\u001b[1;33m,\u001b[0m \u001b[0maxes\u001b[0m\u001b[1;33m)\u001b[0m\u001b[1;33m\u001b[0m\u001b[1;33m\u001b[0m\u001b[0m\n\u001b[0m\u001b[0;32m   4874\u001b[0m         \u001b[0mmgr\u001b[0m\u001b[1;33m.\u001b[0m\u001b[0m_consolidate_inplace\u001b[0m\u001b[1;33m(\u001b[0m\u001b[1;33m)\u001b[0m\u001b[1;33m\u001b[0m\u001b[1;33m\u001b[0m\u001b[0m\n",
      "\u001b[1;32mC:\\ProgramData\\Anaconda3\\lib\\site-packages\\pandas\\core\\internals.py\u001b[0m in \u001b[0;36m__init__\u001b[1;34m(self, blocks, axes, do_integrity_check)\u001b[0m\n\u001b[0;32m   3281\u001b[0m         \u001b[1;32mif\u001b[0m \u001b[0mdo_integrity_check\u001b[0m\u001b[1;33m:\u001b[0m\u001b[1;33m\u001b[0m\u001b[1;33m\u001b[0m\u001b[0m\n\u001b[1;32m-> 3282\u001b[1;33m             \u001b[0mself\u001b[0m\u001b[1;33m.\u001b[0m\u001b[0m_verify_integrity\u001b[0m\u001b[1;33m(\u001b[0m\u001b[1;33m)\u001b[0m\u001b[1;33m\u001b[0m\u001b[1;33m\u001b[0m\u001b[0m\n\u001b[0m\u001b[0;32m   3283\u001b[0m \u001b[1;33m\u001b[0m\u001b[0m\n",
      "\u001b[1;32mC:\\ProgramData\\Anaconda3\\lib\\site-packages\\pandas\\core\\internals.py\u001b[0m in \u001b[0;36m_verify_integrity\u001b[1;34m(self)\u001b[0m\n\u001b[0;32m   3492\u001b[0m             \u001b[1;32mif\u001b[0m \u001b[0mblock\u001b[0m\u001b[1;33m.\u001b[0m\u001b[0m_verify_integrity\u001b[0m \u001b[1;32mand\u001b[0m \u001b[0mblock\u001b[0m\u001b[1;33m.\u001b[0m\u001b[0mshape\u001b[0m\u001b[1;33m[\u001b[0m\u001b[1;36m1\u001b[0m\u001b[1;33m:\u001b[0m\u001b[1;33m]\u001b[0m \u001b[1;33m!=\u001b[0m \u001b[0mmgr_shape\u001b[0m\u001b[1;33m[\u001b[0m\u001b[1;36m1\u001b[0m\u001b[1;33m:\u001b[0m\u001b[1;33m]\u001b[0m\u001b[1;33m:\u001b[0m\u001b[1;33m\u001b[0m\u001b[1;33m\u001b[0m\u001b[0m\n\u001b[1;32m-> 3493\u001b[1;33m                 \u001b[0mconstruction_error\u001b[0m\u001b[1;33m(\u001b[0m\u001b[0mtot_items\u001b[0m\u001b[1;33m,\u001b[0m \u001b[0mblock\u001b[0m\u001b[1;33m.\u001b[0m\u001b[0mshape\u001b[0m\u001b[1;33m[\u001b[0m\u001b[1;36m1\u001b[0m\u001b[1;33m:\u001b[0m\u001b[1;33m]\u001b[0m\u001b[1;33m,\u001b[0m \u001b[0mself\u001b[0m\u001b[1;33m.\u001b[0m\u001b[0maxes\u001b[0m\u001b[1;33m)\u001b[0m\u001b[1;33m\u001b[0m\u001b[1;33m\u001b[0m\u001b[0m\n\u001b[0m\u001b[0;32m   3494\u001b[0m         \u001b[1;32mif\u001b[0m \u001b[0mlen\u001b[0m\u001b[1;33m(\u001b[0m\u001b[0mself\u001b[0m\u001b[1;33m.\u001b[0m\u001b[0mitems\u001b[0m\u001b[1;33m)\u001b[0m \u001b[1;33m!=\u001b[0m \u001b[0mtot_items\u001b[0m\u001b[1;33m:\u001b[0m\u001b[1;33m\u001b[0m\u001b[1;33m\u001b[0m\u001b[0m\n",
      "\u001b[1;32mC:\\ProgramData\\Anaconda3\\lib\\site-packages\\pandas\\core\\internals.py\u001b[0m in \u001b[0;36mconstruction_error\u001b[1;34m(tot_items, block_shape, axes, e)\u001b[0m\n\u001b[0;32m   4842\u001b[0m     raise ValueError(\"Shape of passed values is {0}, indices imply {1}\".format(\n\u001b[1;32m-> 4843\u001b[1;33m         passed, implied))\n\u001b[0m\u001b[0;32m   4844\u001b[0m \u001b[1;33m\u001b[0m\u001b[0m\n",
      "\u001b[1;31mValueError\u001b[0m: Shape of passed values is (2, 2), indices imply (2, 1)",
      "\nDuring handling of the above exception, another exception occurred:\n",
      "\u001b[1;31mValueError\u001b[0m                                Traceback (most recent call last)",
      "\u001b[1;32m<ipython-input-173-65aed2a3094a>\u001b[0m in \u001b[0;36m<module>\u001b[1;34m\u001b[0m\n\u001b[1;32m----> 1\u001b[1;33m \u001b[0mpd\u001b[0m\u001b[1;33m.\u001b[0m\u001b[0mDataFrame\u001b[0m\u001b[1;33m(\u001b[0m\u001b[0mtest_results\u001b[0m\u001b[1;33m,\u001b[0m \u001b[0mindex\u001b[0m\u001b[1;33m=\u001b[0m\u001b[1;33m[\u001b[0m\u001b[1;34m'Mean absolute error [MPG]'\u001b[0m\u001b[1;33m]\u001b[0m\u001b[1;33m)\u001b[0m\u001b[1;33m.\u001b[0m\u001b[0mT\u001b[0m\u001b[1;33m\u001b[0m\u001b[1;33m\u001b[0m\u001b[0m\n\u001b[0m",
      "\u001b[1;32mC:\\ProgramData\\Anaconda3\\lib\\site-packages\\pandas\\core\\frame.py\u001b[0m in \u001b[0;36m__init__\u001b[1;34m(self, data, index, columns, dtype, copy)\u001b[0m\n\u001b[0;32m    346\u001b[0m                                  dtype=dtype, copy=copy)\n\u001b[0;32m    347\u001b[0m         \u001b[1;32melif\u001b[0m \u001b[0misinstance\u001b[0m\u001b[1;33m(\u001b[0m\u001b[0mdata\u001b[0m\u001b[1;33m,\u001b[0m \u001b[0mdict\u001b[0m\u001b[1;33m)\u001b[0m\u001b[1;33m:\u001b[0m\u001b[1;33m\u001b[0m\u001b[1;33m\u001b[0m\u001b[0m\n\u001b[1;32m--> 348\u001b[1;33m             \u001b[0mmgr\u001b[0m \u001b[1;33m=\u001b[0m \u001b[0mself\u001b[0m\u001b[1;33m.\u001b[0m\u001b[0m_init_dict\u001b[0m\u001b[1;33m(\u001b[0m\u001b[0mdata\u001b[0m\u001b[1;33m,\u001b[0m \u001b[0mindex\u001b[0m\u001b[1;33m,\u001b[0m \u001b[0mcolumns\u001b[0m\u001b[1;33m,\u001b[0m \u001b[0mdtype\u001b[0m\u001b[1;33m=\u001b[0m\u001b[0mdtype\u001b[0m\u001b[1;33m)\u001b[0m\u001b[1;33m\u001b[0m\u001b[1;33m\u001b[0m\u001b[0m\n\u001b[0m\u001b[0;32m    349\u001b[0m         \u001b[1;32melif\u001b[0m \u001b[0misinstance\u001b[0m\u001b[1;33m(\u001b[0m\u001b[0mdata\u001b[0m\u001b[1;33m,\u001b[0m \u001b[0mma\u001b[0m\u001b[1;33m.\u001b[0m\u001b[0mMaskedArray\u001b[0m\u001b[1;33m)\u001b[0m\u001b[1;33m:\u001b[0m\u001b[1;33m\u001b[0m\u001b[1;33m\u001b[0m\u001b[0m\n\u001b[0;32m    350\u001b[0m             \u001b[1;32mimport\u001b[0m \u001b[0mnumpy\u001b[0m\u001b[1;33m.\u001b[0m\u001b[0mma\u001b[0m\u001b[1;33m.\u001b[0m\u001b[0mmrecords\u001b[0m \u001b[1;32mas\u001b[0m \u001b[0mmrecords\u001b[0m\u001b[1;33m\u001b[0m\u001b[1;33m\u001b[0m\u001b[0m\n",
      "\u001b[1;32mC:\\ProgramData\\Anaconda3\\lib\\site-packages\\pandas\\core\\frame.py\u001b[0m in \u001b[0;36m_init_dict\u001b[1;34m(self, data, index, columns, dtype)\u001b[0m\n\u001b[0;32m    457\u001b[0m             \u001b[0marrays\u001b[0m \u001b[1;33m=\u001b[0m \u001b[1;33m[\u001b[0m\u001b[0mdata\u001b[0m\u001b[1;33m[\u001b[0m\u001b[0mk\u001b[0m\u001b[1;33m]\u001b[0m \u001b[1;32mfor\u001b[0m \u001b[0mk\u001b[0m \u001b[1;32min\u001b[0m \u001b[0mkeys\u001b[0m\u001b[1;33m]\u001b[0m\u001b[1;33m\u001b[0m\u001b[1;33m\u001b[0m\u001b[0m\n\u001b[0;32m    458\u001b[0m \u001b[1;33m\u001b[0m\u001b[0m\n\u001b[1;32m--> 459\u001b[1;33m         \u001b[1;32mreturn\u001b[0m \u001b[0m_arrays_to_mgr\u001b[0m\u001b[1;33m(\u001b[0m\u001b[0marrays\u001b[0m\u001b[1;33m,\u001b[0m \u001b[0mdata_names\u001b[0m\u001b[1;33m,\u001b[0m \u001b[0mindex\u001b[0m\u001b[1;33m,\u001b[0m \u001b[0mcolumns\u001b[0m\u001b[1;33m,\u001b[0m \u001b[0mdtype\u001b[0m\u001b[1;33m=\u001b[0m\u001b[0mdtype\u001b[0m\u001b[1;33m)\u001b[0m\u001b[1;33m\u001b[0m\u001b[1;33m\u001b[0m\u001b[0m\n\u001b[0m\u001b[0;32m    460\u001b[0m \u001b[1;33m\u001b[0m\u001b[0m\n\u001b[0;32m    461\u001b[0m     \u001b[1;32mdef\u001b[0m \u001b[0m_init_ndarray\u001b[0m\u001b[1;33m(\u001b[0m\u001b[0mself\u001b[0m\u001b[1;33m,\u001b[0m \u001b[0mvalues\u001b[0m\u001b[1;33m,\u001b[0m \u001b[0mindex\u001b[0m\u001b[1;33m,\u001b[0m \u001b[0mcolumns\u001b[0m\u001b[1;33m,\u001b[0m \u001b[0mdtype\u001b[0m\u001b[1;33m=\u001b[0m\u001b[1;32mNone\u001b[0m\u001b[1;33m,\u001b[0m \u001b[0mcopy\u001b[0m\u001b[1;33m=\u001b[0m\u001b[1;32mFalse\u001b[0m\u001b[1;33m)\u001b[0m\u001b[1;33m:\u001b[0m\u001b[1;33m\u001b[0m\u001b[1;33m\u001b[0m\u001b[0m\n",
      "\u001b[1;32mC:\\ProgramData\\Anaconda3\\lib\\site-packages\\pandas\\core\\frame.py\u001b[0m in \u001b[0;36m_arrays_to_mgr\u001b[1;34m(arrays, arr_names, index, columns, dtype)\u001b[0m\n\u001b[0;32m   7362\u001b[0m     \u001b[0maxes\u001b[0m \u001b[1;33m=\u001b[0m \u001b[1;33m[\u001b[0m\u001b[0m_ensure_index\u001b[0m\u001b[1;33m(\u001b[0m\u001b[0mcolumns\u001b[0m\u001b[1;33m)\u001b[0m\u001b[1;33m,\u001b[0m \u001b[0m_ensure_index\u001b[0m\u001b[1;33m(\u001b[0m\u001b[0mindex\u001b[0m\u001b[1;33m)\u001b[0m\u001b[1;33m]\u001b[0m\u001b[1;33m\u001b[0m\u001b[1;33m\u001b[0m\u001b[0m\n\u001b[0;32m   7363\u001b[0m \u001b[1;33m\u001b[0m\u001b[0m\n\u001b[1;32m-> 7364\u001b[1;33m     \u001b[1;32mreturn\u001b[0m \u001b[0mcreate_block_manager_from_arrays\u001b[0m\u001b[1;33m(\u001b[0m\u001b[0marrays\u001b[0m\u001b[1;33m,\u001b[0m \u001b[0marr_names\u001b[0m\u001b[1;33m,\u001b[0m \u001b[0maxes\u001b[0m\u001b[1;33m)\u001b[0m\u001b[1;33m\u001b[0m\u001b[1;33m\u001b[0m\u001b[0m\n\u001b[0m\u001b[0;32m   7365\u001b[0m \u001b[1;33m\u001b[0m\u001b[0m\n\u001b[0;32m   7366\u001b[0m \u001b[1;33m\u001b[0m\u001b[0m\n",
      "\u001b[1;32mC:\\ProgramData\\Anaconda3\\lib\\site-packages\\pandas\\core\\internals.py\u001b[0m in \u001b[0;36mcreate_block_manager_from_arrays\u001b[1;34m(arrays, names, axes)\u001b[0m\n\u001b[0;32m   4875\u001b[0m         \u001b[1;32mreturn\u001b[0m \u001b[0mmgr\u001b[0m\u001b[1;33m\u001b[0m\u001b[1;33m\u001b[0m\u001b[0m\n\u001b[0;32m   4876\u001b[0m     \u001b[1;32mexcept\u001b[0m \u001b[0mValueError\u001b[0m \u001b[1;32mas\u001b[0m \u001b[0me\u001b[0m\u001b[1;33m:\u001b[0m\u001b[1;33m\u001b[0m\u001b[1;33m\u001b[0m\u001b[0m\n\u001b[1;32m-> 4877\u001b[1;33m         \u001b[0mconstruction_error\u001b[0m\u001b[1;33m(\u001b[0m\u001b[0mlen\u001b[0m\u001b[1;33m(\u001b[0m\u001b[0marrays\u001b[0m\u001b[1;33m)\u001b[0m\u001b[1;33m,\u001b[0m \u001b[0marrays\u001b[0m\u001b[1;33m[\u001b[0m\u001b[1;36m0\u001b[0m\u001b[1;33m]\u001b[0m\u001b[1;33m.\u001b[0m\u001b[0mshape\u001b[0m\u001b[1;33m,\u001b[0m \u001b[0maxes\u001b[0m\u001b[1;33m,\u001b[0m \u001b[0me\u001b[0m\u001b[1;33m)\u001b[0m\u001b[1;33m\u001b[0m\u001b[1;33m\u001b[0m\u001b[0m\n\u001b[0m\u001b[0;32m   4878\u001b[0m \u001b[1;33m\u001b[0m\u001b[0m\n\u001b[0;32m   4879\u001b[0m \u001b[1;33m\u001b[0m\u001b[0m\n",
      "\u001b[1;32mC:\\ProgramData\\Anaconda3\\lib\\site-packages\\pandas\\core\\internals.py\u001b[0m in \u001b[0;36mconstruction_error\u001b[1;34m(tot_items, block_shape, axes, e)\u001b[0m\n\u001b[0;32m   4841\u001b[0m         \u001b[1;32mraise\u001b[0m \u001b[0mValueError\u001b[0m\u001b[1;33m(\u001b[0m\u001b[1;34m\"Empty data passed with indices specified.\"\u001b[0m\u001b[1;33m)\u001b[0m\u001b[1;33m\u001b[0m\u001b[1;33m\u001b[0m\u001b[0m\n\u001b[0;32m   4842\u001b[0m     raise ValueError(\"Shape of passed values is {0}, indices imply {1}\".format(\n\u001b[1;32m-> 4843\u001b[1;33m         passed, implied))\n\u001b[0m\u001b[0;32m   4844\u001b[0m \u001b[1;33m\u001b[0m\u001b[0m\n\u001b[0;32m   4845\u001b[0m \u001b[1;33m\u001b[0m\u001b[0m\n",
      "\u001b[1;31mValueError\u001b[0m: Shape of passed values is (2, 2), indices imply (2, 1)"
     ]
    }
   ],
   "source": [
    "pd.DataFrame(test_results, index=['Mean absolute error [MPG]']).T"
   ]
  },
  {
   "cell_type": "code",
   "execution_count": null,
   "metadata": {},
   "outputs": [],
   "source": [
    "test_predictions = dnn_model.predict(test_features).flatten()\n",
    "\n",
    "a = plt.axes(aspect='equal')\n",
    "plt.scatter(test_labels, test_predictions)\n",
    "plt.xlabel('True Values [MPG]')\n",
    "plt.ylabel('Predictions [MPG]')\n",
    "lims = [70, 100]\n",
    "plt.xlim(lims)\n",
    "plt.ylim(lims)\n",
    "_ = plt.plot(lims, lims)"
   ]
  },
  {
   "cell_type": "code",
   "execution_count": null,
   "metadata": {},
   "outputs": [],
   "source": [
    "error = test_predictions - test_labels\n",
    "plt.hist(error, bins=25)\n",
    "plt.xlabel('Prediction Error [MPG]')\n",
    "_ = plt.ylabel('Count')"
   ]
  },
  {
   "cell_type": "code",
   "execution_count": null,
   "metadata": {},
   "outputs": [],
   "source": [
    "sns.pairplot(train_dataset[['0', '1', '2', '3']], diag_kind='kde')"
   ]
  },
  {
   "cell_type": "code",
   "execution_count": null,
   "metadata": {},
   "outputs": [],
   "source": [
    "print(test_results)"
   ]
  },
  {
   "cell_type": "code",
   "execution_count": null,
   "metadata": {},
   "outputs": [],
   "source": [
    "#dnn_model.save('dnn_model-v2')"
   ]
  },
  {
   "cell_type": "code",
   "execution_count": null,
   "metadata": {},
   "outputs": [],
   "source": [
    "# reloaded = tf.keras.models.load_model('dnn_model')\n",
    "# converter =tf.lite.TFLiteConverter.from_keras_model(reloaded)\n",
    "# converter.optimizations = [tf.lite.Optimize.DEFAULT]\n",
    "# tflite_model = converter.convert()\n",
    "# open(\"dnn_model_v1.tflite\", \"wb\").write(tflite_model)"
   ]
  },
  {
   "cell_type": "code",
   "execution_count": null,
   "metadata": {},
   "outputs": [],
   "source": []
  }
 ],
 "metadata": {
  "kernelspec": {
   "display_name": "Python 3",
   "language": "python",
   "name": "python3"
  },
  "language_info": {
   "codemirror_mode": {
    "name": "ipython",
    "version": 3
   },
   "file_extension": ".py",
   "mimetype": "text/x-python",
   "name": "python",
   "nbconvert_exporter": "python",
   "pygments_lexer": "ipython3",
   "version": "3.7.1"
  }
 },
 "nbformat": 4,
 "nbformat_minor": 2
}
